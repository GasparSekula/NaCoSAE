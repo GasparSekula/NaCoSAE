{
  "nbformat": 4,
  "nbformat_minor": 0,
  "metadata": {
    "colab": {
      "provenance": [],
      "gpuType": "T4"
    },
    "kernelspec": {
      "name": "python3",
      "display_name": "Python 3"
    },
    "language_info": {
      "name": "python"
    },
    "accelerator": "GPU"
  },
  "cells": [
    {
      "cell_type": "markdown",
      "source": [
        "# MILS implementation\n",
        "\n",
        "Source repository: https://github.com/facebookresearch/MILS/tree/main\n",
        "\n",
        "The code was rewrited (only necessary parts) from the original repository.\n",
        "\n",
        "For execution simplification, only 2 pictures are in the dataset with original captions:\n",
        "- (id = 6177) The scissors with black handles are sitting open.\n",
        "- (id = 47720) A cup of coffee sits next to a panini sandwich on a counter.\n"
      ],
      "metadata": {
        "id": "Olu7zJGMIEKt"
      }
    },
    {
      "cell_type": "markdown",
      "source": [
        "## Prepare Colab environment\n",
        "0. move to /content/ dir\n",
        "1. remove existing /content/mils/ folder\n",
        "2. upload mils.zip archive and extract it"
      ],
      "metadata": {
        "id": "J2JfbBEAJEhh"
      }
    },
    {
      "cell_type": "code",
      "source": [
        "# !rm -rf /content/mils/\n"
      ],
      "metadata": {
        "id": "ZFQpP4Dld9Sn"
      },
      "execution_count": 15,
      "outputs": []
    },
    {
      "cell_type": "code",
      "source": [
        "# cd /content/"
      ],
      "metadata": {
        "colab": {
          "base_uri": "https://localhost:8080/"
        },
        "id": "mTcRj5-ZiHhR",
        "outputId": "a4ccb4b2-2a90-474d-ea3e-a95e72a4d731"
      },
      "execution_count": 1,
      "outputs": [
        {
          "output_type": "stream",
          "name": "stdout",
          "text": [
            "/content\n"
          ]
        }
      ]
    },
    {
      "cell_type": "code",
      "execution_count": 2,
      "metadata": {
        "id": "uJI3hgnkf74b",
        "colab": {
          "base_uri": "https://localhost:8080/"
        },
        "outputId": "d8b97c2c-d16d-4cf0-9af2-bf2d8a66338d"
      },
      "outputs": [
        {
          "output_type": "stream",
          "name": "stdout",
          "text": [
            "Archive:  mils.zip\n",
            "   creating: mils/\n",
            "   creating: mils/eval_utils/\n",
            "  inflating: mils/image_descriptions_per_class.txt  \n",
            "  inflating: __MACOSX/mils/._image_descriptions_per_class.txt  \n",
            "  inflating: mils/.DS_Store          \n",
            "  inflating: __MACOSX/mils/._.DS_Store  \n",
            "  inflating: mils/environment.yml    \n",
            "  inflating: __MACOSX/mils/._environment.yml  \n",
            "  inflating: mils/paths.py           \n",
            "  inflating: __MACOSX/mils/._paths.py  \n",
            "   creating: mils/optimization_utils/\n",
            "   creating: mils/utils/\n",
            "   creating: mils/prompts/\n",
            "  inflating: __MACOSX/mils/._prompts  \n",
            "  inflating: mils/main.py            \n",
            "  inflating: __MACOSX/mils/._main.py  \n",
            "   creating: mils/data/\n",
            "  inflating: mils/eval_utils/image_captioning.py  \n",
            "  inflating: __MACOSX/mils/eval_utils/._image_captioning.py  \n",
            " extracting: mils/optimization_utils/__init__.py  \n",
            "  inflating: __MACOSX/mils/optimization_utils/.___init__.py  \n",
            "  inflating: mils/optimization_utils/generator.py  \n",
            "  inflating: __MACOSX/mils/optimization_utils/._generator.py  \n",
            "  inflating: mils/optimization_utils/scorer.py  \n",
            "  inflating: __MACOSX/mils/optimization_utils/._scorer.py  \n",
            "  inflating: mils/utils/coco_delete_incomplete_folders.py  \n",
            "  inflating: mils/utils/misc.py      \n",
            "  inflating: mils/utils/pretrained.py  \n",
            "  inflating: mils/utils/constants.py  \n",
            "  inflating: mils/utils/hook.py      \n",
            "  inflating: mils/utils/__init__.py  \n",
            "  inflating: mils/utils/modified_resnet.py  \n",
            "  inflating: mils/utils/visualization.py  \n",
            "   creating: mils/utils/vocab/\n",
            "  inflating: mils/utils/factory.py   \n",
            "  inflating: mils/utils/model.py     \n",
            "  inflating: mils/utils/tokenizer.py  \n",
            "  inflating: mils/utils/transformer.py  \n",
            "  inflating: mils/utils/transform.py  \n",
            "  inflating: mils/utils/openai_models.py  \n",
            "   creating: mils/utils/model_configs/\n",
            "  inflating: mils/utils/timm_model.py  \n",
            "  inflating: mils/utils/cub_classes.py  \n",
            "  inflating: mils/prompts/image_captioning_shorter.txt  \n",
            "  inflating: __MACOSX/mils/prompts/._image_captioning_shorter.txt  \n",
            "  inflating: mils/data/.DS_Store     \n",
            "  inflating: __MACOSX/mils/data/._.DS_Store  \n",
            "   creating: mils/data/test/\n",
            "   creating: mils/data/annotations/\n",
            "   creating: mils/data/val2014/\n",
            "  inflating: mils/utils/vocab/bpe_simple_vocab_16e6.txt.gz  \n",
            "  inflating: mils/utils/model_configs/xlm-roberta-large-ViT-H-14.json  \n",
            "  inflating: mils/utils/model_configs/EVA01-g-14.json  \n",
            "  inflating: mils/utils/model_configs/ViT-M-16.json  \n",
            "  inflating: mils/utils/model_configs/xlm-roberta-base-ViT-B-32.json  \n",
            "  inflating: mils/utils/model_configs/ViT-B-32.json  \n",
            "  inflating: mils/utils/model_configs/ViT-H-14.json  \n",
            "  inflating: mils/utils/model_configs/ViT-L-16.json  \n",
            "  inflating: mils/utils/model_configs/ViT-B-16-plus-240.json  \n",
            "  inflating: mils/utils/model_configs/ViT-L-16-320.json  \n",
            "  inflating: mils/utils/model_configs/ViT-S-16-alt.json  \n",
            "  inflating: mils/utils/model_configs/vit_medium_patch16_gap_256.json  \n",
            "  inflating: mils/utils/model_configs/roberta-ViT-B-32.json  \n",
            "  inflating: mils/utils/model_configs/ViT-B-32-plus-256.json  \n",
            "  inflating: mils/utils/model_configs/ViT-B-16-plus.json  \n",
            "  inflating: mils/utils/model_configs/coca_roberta-ViT-B-32.json  \n",
            "  inflating: mils/utils/model_configs/coca_base.json  \n",
            "  inflating: mils/utils/model_configs/ViT-S-32-alt.json  \n",
            "  inflating: mils/utils/model_configs/EVA02-E-14-plus.json  \n",
            "  inflating: mils/utils/model_configs/ViT-bigG-14.json  \n",
            "  inflating: mils/utils/model_configs/ViT-S-16.json  \n",
            "  inflating: mils/utils/model_configs/coca_ViT-B-32.json  \n",
            "  inflating: mils/utils/model_configs/ViT-L-14-336.json  \n",
            "  inflating: mils/utils/model_configs/ViT-M-16-alt.json  \n",
            "  inflating: mils/utils/model_configs/ViT-g-14.json  \n",
            "  inflating: mils/utils/model_configs/vit_relpos_medium_patch16_cls_224.json  \n",
            "  inflating: mils/utils/model_configs/ViT-M-32.json  \n",
            "  inflating: mils/utils/model_configs/ViT-B-16.json  \n",
            "  inflating: mils/utils/model_configs/ViT-B-32-quickgelu.json  \n",
            "  inflating: mils/utils/model_configs/EVA02-E-14.json  \n",
            "  inflating: mils/utils/model_configs/coca_ViT-L-14.json  \n",
            "  inflating: mils/utils/model_configs/EVA02-L-14.json  \n",
            "  inflating: mils/utils/model_configs/mt5-xl-ViT-H-14.json  \n",
            "  inflating: mils/utils/model_configs/ViT-L-14-280.json  \n",
            "  inflating: mils/utils/model_configs/EVA01-g-14-plus.json  \n",
            "  inflating: mils/utils/model_configs/swin_base_patch4_window7_224.json  \n",
            "  inflating: mils/utils/model_configs/ViT-M-32-alt.json  \n",
            "  inflating: mils/utils/model_configs/ViT-L-14.json  \n",
            "  inflating: mils/utils/model_configs/ViT-H-16.json  \n",
            "  inflating: mils/utils/model_configs/ViT-S-32.json  \n",
            "  inflating: mils/utils/model_configs/EVA02-L-14-336.json  \n",
            "  inflating: mils/utils/model_configs/mt5-base-ViT-B-32.json  \n",
            "  inflating: mils/utils/model_configs/ViT-e-14.json  \n",
            "  inflating: mils/utils/model_configs/EVA02-B-16.json  \n",
            "   creating: mils/data/test/split/\n",
            "  inflating: mils/data/test/.DS_Store  \n",
            "  inflating: __MACOSX/mils/data/test/._.DS_Store  \n",
            "  inflating: mils/data/annotations/captions_val2014.json  \n",
            "  inflating: __MACOSX/mils/data/annotations/._captions_val2014.json  \n",
            "  inflating: mils/data/val2014/.DS_Store  \n",
            "  inflating: __MACOSX/mils/data/val2014/._.DS_Store  \n",
            "  inflating: mils/data/val2014/COCO_val2014_000000006177.jpg  \n",
            "  inflating: mils/data/val2014/COCO_val2014_000000047720.jpg  \n",
            "  inflating: __MACOSX/mils/data/val2014/._COCO_val2014_000000047720.jpg  \n",
            "  inflating: mils/data/test/split/splits.json  \n",
            "  inflating: __MACOSX/mils/data/test/split/._splits.json  \n"
          ]
        }
      ],
      "source": [
        "# ! unzip mils.zip"
      ]
    },
    {
      "cell_type": "code",
      "source": [
        "%cd mils"
      ],
      "metadata": {
        "id": "nvdwIKWYKBdn"
      },
      "execution_count": null,
      "outputs": []
    },
    {
      "cell_type": "markdown",
      "source": [
        "4. ensure that paths in /mils/paths.py are correct\n",
        "5. install packages"
      ],
      "metadata": {
        "id": "fI8xA3xLJo00"
      }
    },
    {
      "cell_type": "code",
      "source": [
        "! pip install torch transformers pillow numpy tqdm pycocoevalcap"
      ],
      "metadata": {
        "colab": {
          "base_uri": "https://localhost:8080/"
        },
        "id": "_D5iI5oIiPS7",
        "outputId": "983142a5-fd64-4fbf-c720-00df4f547932"
      },
      "execution_count": 4,
      "outputs": [
        {
          "output_type": "stream",
          "name": "stdout",
          "text": [
            "Requirement already satisfied: torch in /usr/local/lib/python3.12/dist-packages (2.8.0+cu126)\n",
            "Requirement already satisfied: transformers in /usr/local/lib/python3.12/dist-packages (4.57.1)\n",
            "Requirement already satisfied: pillow in /usr/local/lib/python3.12/dist-packages (11.3.0)\n",
            "Requirement already satisfied: numpy in /usr/local/lib/python3.12/dist-packages (2.0.2)\n",
            "Requirement already satisfied: tqdm in /usr/local/lib/python3.12/dist-packages (4.67.1)\n",
            "Collecting pycocoevalcap\n",
            "  Downloading pycocoevalcap-1.2-py3-none-any.whl.metadata (3.2 kB)\n",
            "Requirement already satisfied: filelock in /usr/local/lib/python3.12/dist-packages (from torch) (3.20.0)\n",
            "Requirement already satisfied: typing-extensions>=4.10.0 in /usr/local/lib/python3.12/dist-packages (from torch) (4.15.0)\n",
            "Requirement already satisfied: setuptools in /usr/local/lib/python3.12/dist-packages (from torch) (75.2.0)\n",
            "Requirement already satisfied: sympy>=1.13.3 in /usr/local/lib/python3.12/dist-packages (from torch) (1.13.3)\n",
            "Requirement already satisfied: networkx in /usr/local/lib/python3.12/dist-packages (from torch) (3.5)\n",
            "Requirement already satisfied: jinja2 in /usr/local/lib/python3.12/dist-packages (from torch) (3.1.6)\n",
            "Requirement already satisfied: fsspec in /usr/local/lib/python3.12/dist-packages (from torch) (2025.3.0)\n",
            "Requirement already satisfied: nvidia-cuda-nvrtc-cu12==12.6.77 in /usr/local/lib/python3.12/dist-packages (from torch) (12.6.77)\n",
            "Requirement already satisfied: nvidia-cuda-runtime-cu12==12.6.77 in /usr/local/lib/python3.12/dist-packages (from torch) (12.6.77)\n",
            "Requirement already satisfied: nvidia-cuda-cupti-cu12==12.6.80 in /usr/local/lib/python3.12/dist-packages (from torch) (12.6.80)\n",
            "Requirement already satisfied: nvidia-cudnn-cu12==9.10.2.21 in /usr/local/lib/python3.12/dist-packages (from torch) (9.10.2.21)\n",
            "Requirement already satisfied: nvidia-cublas-cu12==12.6.4.1 in /usr/local/lib/python3.12/dist-packages (from torch) (12.6.4.1)\n",
            "Requirement already satisfied: nvidia-cufft-cu12==11.3.0.4 in /usr/local/lib/python3.12/dist-packages (from torch) (11.3.0.4)\n",
            "Requirement already satisfied: nvidia-curand-cu12==10.3.7.77 in /usr/local/lib/python3.12/dist-packages (from torch) (10.3.7.77)\n",
            "Requirement already satisfied: nvidia-cusolver-cu12==11.7.1.2 in /usr/local/lib/python3.12/dist-packages (from torch) (11.7.1.2)\n",
            "Requirement already satisfied: nvidia-cusparse-cu12==12.5.4.2 in /usr/local/lib/python3.12/dist-packages (from torch) (12.5.4.2)\n",
            "Requirement already satisfied: nvidia-cusparselt-cu12==0.7.1 in /usr/local/lib/python3.12/dist-packages (from torch) (0.7.1)\n",
            "Requirement already satisfied: nvidia-nccl-cu12==2.27.3 in /usr/local/lib/python3.12/dist-packages (from torch) (2.27.3)\n",
            "Requirement already satisfied: nvidia-nvtx-cu12==12.6.77 in /usr/local/lib/python3.12/dist-packages (from torch) (12.6.77)\n",
            "Requirement already satisfied: nvidia-nvjitlink-cu12==12.6.85 in /usr/local/lib/python3.12/dist-packages (from torch) (12.6.85)\n",
            "Requirement already satisfied: nvidia-cufile-cu12==1.11.1.6 in /usr/local/lib/python3.12/dist-packages (from torch) (1.11.1.6)\n",
            "Requirement already satisfied: triton==3.4.0 in /usr/local/lib/python3.12/dist-packages (from torch) (3.4.0)\n",
            "Requirement already satisfied: huggingface-hub<1.0,>=0.34.0 in /usr/local/lib/python3.12/dist-packages (from transformers) (0.35.3)\n",
            "Requirement already satisfied: packaging>=20.0 in /usr/local/lib/python3.12/dist-packages (from transformers) (25.0)\n",
            "Requirement already satisfied: pyyaml>=5.1 in /usr/local/lib/python3.12/dist-packages (from transformers) (6.0.3)\n",
            "Requirement already satisfied: regex!=2019.12.17 in /usr/local/lib/python3.12/dist-packages (from transformers) (2024.11.6)\n",
            "Requirement already satisfied: requests in /usr/local/lib/python3.12/dist-packages (from transformers) (2.32.4)\n",
            "Requirement already satisfied: tokenizers<=0.23.0,>=0.22.0 in /usr/local/lib/python3.12/dist-packages (from transformers) (0.22.1)\n",
            "Requirement already satisfied: safetensors>=0.4.3 in /usr/local/lib/python3.12/dist-packages (from transformers) (0.6.2)\n",
            "Requirement already satisfied: pycocotools>=2.0.2 in /usr/local/lib/python3.12/dist-packages (from pycocoevalcap) (2.0.10)\n",
            "Requirement already satisfied: hf-xet<2.0.0,>=1.1.3 in /usr/local/lib/python3.12/dist-packages (from huggingface-hub<1.0,>=0.34.0->transformers) (1.1.10)\n",
            "Requirement already satisfied: mpmath<1.4,>=1.1.0 in /usr/local/lib/python3.12/dist-packages (from sympy>=1.13.3->torch) (1.3.0)\n",
            "Requirement already satisfied: MarkupSafe>=2.0 in /usr/local/lib/python3.12/dist-packages (from jinja2->torch) (3.0.3)\n",
            "Requirement already satisfied: charset_normalizer<4,>=2 in /usr/local/lib/python3.12/dist-packages (from requests->transformers) (3.4.4)\n",
            "Requirement already satisfied: idna<4,>=2.5 in /usr/local/lib/python3.12/dist-packages (from requests->transformers) (3.11)\n",
            "Requirement already satisfied: urllib3<3,>=1.21.1 in /usr/local/lib/python3.12/dist-packages (from requests->transformers) (2.5.0)\n",
            "Requirement already satisfied: certifi>=2017.4.17 in /usr/local/lib/python3.12/dist-packages (from requests->transformers) (2025.10.5)\n",
            "Downloading pycocoevalcap-1.2-py3-none-any.whl (104.3 MB)\n",
            "\u001b[2K   \u001b[90m━━━━━━━━━━━━━━━━━━━━━━━━━━━━━━━━━━━━━━━━\u001b[0m \u001b[32m104.3/104.3 MB\u001b[0m \u001b[31m8.5 MB/s\u001b[0m eta \u001b[36m0:00:00\u001b[0m\n",
            "\u001b[?25hInstalling collected packages: pycocoevalcap\n",
            "Successfully installed pycocoevalcap-1.2\n"
          ]
        }
      ]
    },
    {
      "cell_type": "code",
      "source": [
        "!pip install -q open_clip_torch"
      ],
      "metadata": {
        "colab": {
          "base_uri": "https://localhost:8080/"
        },
        "id": "8CjECPLga62F",
        "outputId": "ab626fc6-a676-4c93-dd71-7909d495575a"
      },
      "execution_count": 5,
      "outputs": [
        {
          "output_type": "stream",
          "name": "stdout",
          "text": [
            "\u001b[?25l   \u001b[90m━━━━━━━━━━━━━━━━━━━━━━━━━━━━━━━━━━━━━━━━\u001b[0m \u001b[32m0.0/1.5 MB\u001b[0m \u001b[31m?\u001b[0m eta \u001b[36m-:--:--\u001b[0m\r\u001b[2K   \u001b[91m━━━━━━━━━━━━━━━━━━━━━━━━━━━━━━━━━━━━━━━\u001b[0m\u001b[91m╸\u001b[0m \u001b[32m1.5/1.5 MB\u001b[0m \u001b[31m67.0 MB/s\u001b[0m eta \u001b[36m0:00:01\u001b[0m\r\u001b[2K   \u001b[90m━━━━━━━━━━━━━━━━━━━━━━━━━━━━━━━━━━━━━━━━\u001b[0m \u001b[32m1.5/1.5 MB\u001b[0m \u001b[31m30.6 MB/s\u001b[0m eta \u001b[36m0:00:00\u001b[0m\n",
            "\u001b[?25h\u001b[?25l   \u001b[90m━━━━━━━━━━━━━━━━━━━━━━━━━━━━━━━━━━━━━━━━\u001b[0m \u001b[32m0.0/44.8 kB\u001b[0m \u001b[31m?\u001b[0m eta \u001b[36m-:--:--\u001b[0m\r\u001b[2K   \u001b[90m━━━━━━━━━━━━━━━━━━━━━━━━━━━━━━━━━━━━━━━━\u001b[0m \u001b[32m44.8/44.8 kB\u001b[0m \u001b[31m2.3 MB/s\u001b[0m eta \u001b[36m0:00:00\u001b[0m\n",
            "\u001b[?25h"
          ]
        }
      ]
    },
    {
      "cell_type": "code",
      "source": [
        "!pip install -q accelerate"
      ],
      "metadata": {
        "id": "q35ZL9EUptZI"
      },
      "execution_count": 6,
      "outputs": []
    },
    {
      "cell_type": "markdown",
      "source": [
        "## Tests\n",
        "\n",
        "First, remove /mils/output folder.\n",
        "\n",
        "Then, run the main.py script. You may adjust the parameters.\n",
        "\n",
        "Here, due to resources limitations, the following settings are chosen:\n",
        "- iterations: 3\n",
        "- text_model: \"microsoft/Phi-3-mini-4k-instruct\" (LLama 3 8B was too big for Colab RAM; some model from Huggingface required registration)\n",
        "- init_descriptions_set_size 10 - sample size of initial descriptions - randomly chosen from ~28k captions"
      ],
      "metadata": {
        "id": "POBWYymFKDfD"
      }
    },
    {
      "cell_type": "code",
      "source": [
        "! rm -r output/\n"
      ],
      "metadata": {
        "id": "sU4VTS11KT5K"
      },
      "execution_count": 40,
      "outputs": []
    },
    {
      "cell_type": "code",
      "source": [
        "! python main.py --iterations 3 --text_model \"microsoft/Phi-3-mini-4k-instruct\" --requested_number 10 --keep_previous 10 --init_descriptions \"image_descriptions_per_class.txt\" --batch_size 8 --init_descriptions_set_size 10"
      ],
      "metadata": {
        "colab": {
          "base_uri": "https://localhost:8080/"
        },
        "id": "0pBPIh7JljXo",
        "outputId": "349423a1-34b7-43e5-cc6c-8d1079ed000e"
      },
      "execution_count": 41,
      "outputs": [
        {
          "output_type": "stream",
          "name": "stdout",
          "text": [
            "/content/mils/output/imagec_g_Phi-3-mini-4k-instruct_3_0.0_10_10_ViT-SO400M-14-SigLIP_webli_image_captioning_shorter_10\n",
            "2025-10-19 15:50:03.923517: E external/local_xla/xla/stream_executor/cuda/cuda_fft.cc:467] Unable to register cuFFT factory: Attempting to register factory for plugin cuFFT when one has already been registered\n",
            "WARNING: All log messages before absl::InitializeLog() is called are written to STDERR\n",
            "E0000 00:00:1760889003.950478   23501 cuda_dnn.cc:8579] Unable to register cuDNN factory: Attempting to register factory for plugin cuDNN when one has already been registered\n",
            "E0000 00:00:1760889003.958135   23501 cuda_blas.cc:1407] Unable to register cuBLAS factory: Attempting to register factory for plugin cuBLAS when one has already been registered\n",
            "W0000 00:00:1760889003.990633   23501 computation_placer.cc:177] computation placer already registered. Please check linkage and avoid linking the same target more than once.\n",
            "W0000 00:00:1760889003.990656   23501 computation_placer.cc:177] computation placer already registered. Please check linkage and avoid linking the same target more than once.\n",
            "W0000 00:00:1760889003.990662   23501 computation_placer.cc:177] computation placer already registered. Please check linkage and avoid linking the same target more than once.\n",
            "W0000 00:00:1760889003.990666   23501 computation_placer.cc:177] computation placer already registered. Please check linkage and avoid linking the same target more than once.\n",
            "2025-10-19 15:50:03.994743: I tensorflow/core/platform/cpu_feature_guard.cc:210] This TensorFlow binary is optimized to use available CPU instructions in performance-critical operations.\n",
            "To enable the following instructions: AVX2 AVX512F FMA, in other operations, rebuild TensorFlow with the appropriate compiler flags.\n",
            "`torch_dtype` is deprecated! Use `dtype` instead!\n",
            "`torch_dtype` is deprecated! Use `dtype` instead!\n",
            "Loading checkpoint shards: 100% 2/2 [00:36<00:00, 18.31s/it]\n",
            "Device set to use cuda:0\n",
            "Length of the data is 2\n",
            "100% 1/1 [00:01<00:00,  1.14s/it]\n",
            "DEBUG: clip_scorer processing 10 sentences...\n",
            "DEBUG: clip_scorer processing 10 sentences...\n",
            "You need to provide a short image description. \n",
            "I am providing to you a list of short image descriptions and scores. \n",
            "Higher score means that the image description characterizes the image better: \n",
            "\n",
            "0.049: Picture with a short hemline\n",
            "0.025: Image with two academic gowns\n",
            "0.010: Image with a cone topped with whipped cream\n",
            "0.001: Image with a coat of arms\n",
            "-0.004: Image with reflection in calm water\n",
            "-0.006: Image with a dog displaying a keen focus\n",
            "-0.013: Picture taken on a perfectly manicured lawn\n",
            "-0.015: Illustration with a sketch-like appearance\n",
            "-0.037: Image with a coyote in camouflage\n",
            "-0.076: Photograph of a Basset Hound walking\n",
            "\n",
            "\n",
            "Generate additional 10 short image descriptions that you think that will maximize the score and fully capture the image. \n",
            "Be concrete and try to find elements that are unique to this image. \n",
            "You can introduce new elements to the descriptions, combine unique elements and objects from provided descriptions to form new descriptions, rephrase individual descriptions, drop elements, or simplify descriptions. \n",
            "Be creative and don't be afraid to come up with erroneous descriptions. Put each description in a different line, with a counter at the beginning (e.g. \"1. ...\"), and try to keep them very short (up to 10 words).\n",
            "You need to provide a short image description. \n",
            "I am providing to you a list of short image descriptions and scores. \n",
            "Higher score means that the image description characterizes the image better: \n",
            "\n",
            "0.018: Image with a cone topped with whipped cream\n",
            "0.014: Picture taken on a perfectly manicured lawn\n",
            "0.006: Picture with a short hemline\n",
            "0.005: Image with a coat of arms\n",
            "0.001: Image with reflection in calm water\n",
            "-0.005: Image with a dog displaying a keen focus\n",
            "-0.019: Image with two academic gowns\n",
            "-0.019: Illustration with a sketch-like appearance\n",
            "-0.046: Photograph of a Basset Hound walking\n",
            "-0.055: Image with a coyote in camouflage\n",
            "\n",
            "\n",
            "Generate additional 10 short image descriptions that you think that will maximize the score and fully capture the image. \n",
            "Be concrete and try to find elements that are unique to this image. \n",
            "You can introduce new elements to the descriptions, combine unique elements and objects from provided descriptions to form new descriptions, rephrase individual descriptions, drop elements, or simplify descriptions. \n",
            "Be creative and don't be afraid to come up with erroneous descriptions. Put each description in a different line, with a counter at the beginning (e.g. \"1. ...\"), and try to keep them very short (up to 10 words).\n",
            "[['A coyote in camouflage, sitting quietly on a deserted island.', 'A Basset Hound in a beach setting, wearing a floppy hat.', 'A coyote in camouflage, exploring a forest trail.', 'A Basset Hound with a sunglass perched on a beach chair.', 'A dog dressed as a gardener, surrounded by fresh flowers.', 'A dog wearing a bow tie, sitting next to a person with a briefcase.', 'A dog wearing a bow tie, strolling in a bustling city.', 'A Basset Hound walking with a red umbrella on a rainy day.', 'A dog dressed as a firefighter, waving at a crowd.', 'A dog wearing a bow tie, standing at a park entrance.'], ['Whipped cream-topped cone on a dessert stand.', 'An intricate sketch, depicting a serene lake scene.', 'A well-kept lawn, featuring a vibrant flower bed.', 'An elegant gown, worn in an academic setting.', 'A Basset Hound, adorned with a sophisticated collar.', 'A dog with a focused gaze, trotting on a sunny path.', 'A coyote, blending into a natural habitat.', 'A distinguished coat of arms, displayed prominently.', 'Calm water reflecting a picturesque mountain backdrop.', 'A reflection on water, showcasing a tranquil scene.']]\n",
            "[['A coyote in camouflage, sitting quietly on a deserted island.', 'A Basset Hound in a beach setting, wearing a floppy hat.', 'A coyote in camouflage, exploring a forest trail.', 'A Basset Hound with a sunglass perched on a beach chair.', 'A dog dressed as a gardener, surrounded by fresh flowers.', 'A dog wearing a bow tie, sitting next to a person with a briefcase.', 'A dog wearing a bow tie, strolling in a bustling city.', 'A Basset Hound walking with a red umbrella on a rainy day.', 'A dog dressed as a firefighter, waving at a crowd.', 'A dog wearing a bow tie, standing at a park entrance.'], ['Whipped cream-topped cone on a dessert stand.', 'An intricate sketch, depicting a serene lake scene.', 'A well-kept lawn, featuring a vibrant flower bed.', 'An elegant gown, worn in an academic setting.', 'A Basset Hound, adorned with a sophisticated collar.', 'A dog with a focused gaze, trotting on a sunny path.', 'A coyote, blending into a natural habitat.', 'A distinguished coat of arms, displayed prominently.', 'Calm water reflecting a picturesque mountain backdrop.', 'A reflection on water, showcasing a tranquil scene.']]\n",
            "DEBUG: clip_scorer processing 8 sentences...\n",
            "DEBUG: clip_scorer processing 8 sentences...\n",
            "DEBUG: clip_scorer processing 4 sentences...\n",
            "DEBUG: clip_scorer processing 8 sentences...\n",
            "DEBUG: clip_scorer processing 8 sentences...\n",
            "DEBUG: clip_scorer processing 4 sentences...\n",
            "DEBUG: BEST VALUE: {'6177': (np.float32(0.04872445), 'Picture with a short hemline'), '47720': (np.float32(0.01797512), 'Image with a cone topped with whipped cream')}\n",
            "You need to provide a short image description. \n",
            "I am providing to you a list of short image descriptions and scores. \n",
            "Higher score means that the image description characterizes the image better: \n",
            "\n",
            "0.049: Picture with a short hemline\n",
            "0.025: Image with two academic gowns\n",
            "0.010: Image with a cone topped with whipped cream\n",
            "0.001: Image with a coat of arms\n",
            "-0.004: Image with reflection in calm water\n",
            "-0.006: Image with a dog displaying a keen focus\n",
            "-0.013: Picture taken on a perfectly manicured lawn\n",
            "-0.015: Illustration with a sketch-like appearance\n",
            "-0.037: Image with a coyote in camouflage\n",
            "-0.059: A dog wearing a bow tie, sitting next to a person with a briefcase.\n",
            "\n",
            "\n",
            "Generate additional 10 short image descriptions that you think that will maximize the score and fully capture the image. \n",
            "Be concrete and try to find elements that are unique to this image. \n",
            "You can introduce new elements to the descriptions, combine unique elements and objects from provided descriptions to form new descriptions, rephrase individual descriptions, drop elements, or simplify descriptions. \n",
            "Be creative and don't be afraid to come up with erroneous descriptions. Put each description in a different line, with a counter at the beginning (e.g. \"1. ...\"), and try to keep them very short (up to 10 words).\n",
            "You need to provide a short image description. \n",
            "I am providing to you a list of short image descriptions and scores. \n",
            "Higher score means that the image description characterizes the image better: \n",
            "\n",
            "0.018: Image with a cone topped with whipped cream\n",
            "0.014: Picture taken on a perfectly manicured lawn\n",
            "0.010: A distinguished coat of arms, displayed prominently.\n",
            "0.006: Picture with a short hemline\n",
            "0.005: Image with a coat of arms\n",
            "0.001: Image with reflection in calm water\n",
            "0.001: A reflection on water, showcasing a tranquil scene.\n",
            "-0.005: Image with a dog displaying a keen focus\n",
            "-0.019: An elegant gown, worn in an academic setting.\n",
            "-0.019: Image with two academic gowns\n",
            "\n",
            "\n",
            "Generate additional 10 short image descriptions that you think that will maximize the score and fully capture the image. \n",
            "Be concrete and try to find elements that are unique to this image. \n",
            "You can introduce new elements to the descriptions, combine unique elements and objects from provided descriptions to form new descriptions, rephrase individual descriptions, drop elements, or simplify descriptions. \n",
            "Be creative and don't be afraid to come up with erroneous descriptions. Put each description in a different line, with a counter at the beginning (e.g. \"1. ...\"), and try to keep them very short (up to 10 words).\n",
            "[['A dog wearing a bow tie, with a twirling ball toy.', 'A dog wearing a bow tie on a sunny day.', 'A sketch of a dog with a bow tie, sitting.', 'Dog in camouflage, blends with a green pasture.', 'Conical ice cream atop a colorful sundae.', 'A well-groomed lawn with a dog resting.', \"A dog's keen focus on a hidden object on the ground.\", 'A dog sitting with a bow tie near an office building.', 'A dog bow tie, reflecting in a mirror.'], ['Reflective water showcasing a tranquil scene.', 'A coat of arms prominently displayed.', 'A short hemline captured in a photograph.', 'Elegant gown and academic gowns in a scholarly environment.', 'Reflective water with a calm and serene atmosphere.', 'A picture of a perfectly manicured lawn.', 'A dog focusing with intense concentration.', 'A distinguished coat of arms on display.', 'An image of a cone topped with whipped cream.', 'A gown worn in an academic setting.']]\n",
            "[['A dog wearing a bow tie, with a twirling ball toy.', 'A dog wearing a bow tie on a sunny day.', 'A sketch of a dog with a bow tie, sitting.', 'Dog in camouflage, blends with a green pasture.', 'Conical ice cream atop a colorful sundae.', 'A well-groomed lawn with a dog resting.', \"A dog's keen focus on a hidden object on the ground.\", 'A dog sitting with a bow tie near an office building.', 'A dog bow tie, reflecting in a mirror.'], ['Reflective water showcasing a tranquil scene.', 'A coat of arms prominently displayed.', 'A short hemline captured in a photograph.', 'Elegant gown and academic gowns in a scholarly environment.', 'Reflective water with a calm and serene atmosphere.', 'A picture of a perfectly manicured lawn.', 'A dog focusing with intense concentration.', 'A distinguished coat of arms on display.', 'An image of a cone topped with whipped cream.', 'A gown worn in an academic setting.']]\n",
            "DEBUG: clip_scorer processing 8 sentences...\n",
            "DEBUG: clip_scorer processing 8 sentences...\n",
            "DEBUG: clip_scorer processing 3 sentences...\n",
            "DEBUG: clip_scorer processing 8 sentences...\n",
            "DEBUG: clip_scorer processing 8 sentences...\n",
            "DEBUG: clip_scorer processing 4 sentences...\n",
            "DEBUG: BEST VALUE: {'6177': (np.float32(0.04872445), 'Picture with a short hemline'), '47720': (np.float32(0.01797512), 'Image with a cone topped with whipped cream')}\n",
            "You need to provide a short image description. \n",
            "I am providing to you a list of short image descriptions and scores. \n",
            "Higher score means that the image description characterizes the image better: \n",
            "\n",
            "0.049: Picture with a short hemline\n",
            "0.025: Image with two academic gowns\n",
            "0.015: A dog bow tie, reflecting in a mirror.\n",
            "0.010: Image with a cone topped with whipped cream\n",
            "0.001: Image with a coat of arms\n",
            "-0.004: Image with reflection in calm water\n",
            "-0.006: Image with a dog displaying a keen focus\n",
            "-0.013: Picture taken on a perfectly manicured lawn\n",
            "-0.015: Illustration with a sketch-like appearance\n",
            "-0.016: A dog's keen focus on a hidden object on the ground.\n",
            "\n",
            "\n",
            "Generate additional 10 short image descriptions that you think that will maximize the score and fully capture the image. \n",
            "Be concrete and try to find elements that are unique to this image. \n",
            "You can introduce new elements to the descriptions, combine unique elements and objects from provided descriptions to form new descriptions, rephrase individual descriptions, drop elements, or simplify descriptions. \n",
            "Be creative and don't be afraid to come up with erroneous descriptions. Put each description in a different line, with a counter at the beginning (e.g. \"1. ...\"), and try to keep them very short (up to 10 words).\n",
            "You need to provide a short image description. \n",
            "I am providing to you a list of short image descriptions and scores. \n",
            "Higher score means that the image description characterizes the image better: \n",
            "\n",
            "0.018: Image with a cone topped with whipped cream\n",
            "0.014: Picture taken on a perfectly manicured lawn\n",
            "0.010: A distinguished coat of arms, displayed prominently.\n",
            "0.010: A coat of arms prominently displayed.\n",
            "0.007: A distinguished coat of arms on display.\n",
            "0.006: Picture with a short hemline\n",
            "0.005: Image with a coat of arms\n",
            "0.002: Reflective water showcasing a tranquil scene.\n",
            "0.002: Reflective water with a calm and serene atmosphere.\n",
            "0.001: Image with reflection in calm water\n",
            "\n",
            "\n",
            "Generate additional 10 short image descriptions that you think that will maximize the score and fully capture the image. \n",
            "Be concrete and try to find elements that are unique to this image. \n",
            "You can introduce new elements to the descriptions, combine unique elements and objects from provided descriptions to form new descriptions, rephrase individual descriptions, drop elements, or simplify descriptions. \n",
            "Be creative and don't be afraid to come up with erroneous descriptions. Put each description in a different line, with a counter at the beginning (e.g. \"1. ...\"), and try to keep them very short (up to 10 words).\n",
            "[[\"A dog's gaze on the ground.\", \"Reflective water with a dog's reflection.\", 'Academic gowns with dog bow tie.', 'Dog focused on hidden object.', \"Dog's focused attention on a treat.\", 'Cone topped with whipped cream near dog.', 'Dog bow tie in a mirror.', 'Whipped cream cone on the lawn.', 'Reflection of a dog in water.', 'Manicured lawn with playful dog.'], ['Dress hemline, fashion statement, short.', 'Reflection of grandeur in tranquil waters.', 'Coat of arms, timeless, and noble.', 'Cone with whipped cream atop, artfully decorated.', 'Mirrored water, calm and peaceful.', 'Whipped-cream crowned, ice cream cone, delicious.', \"Whipped cream's peak, sugary delight.\", 'Reflective water, mirror-like tranquility.', 'Coat of arms on a lavish, ornate shield.', \"Water's calmness, a silent spectacle.\", 'Prominently displayed, stately coat of arms.', 'Distinguished coat of arms, elegant and authoritative.', 'Emblematic coat of arms, regal and old-world.', \"Serenity in reflection, water's calm surface.\", \"Hemline's style, modern, trendy.\", 'Expensive, ornate coat of arms, commanding attention.', \"Hemline's short, fashionable and stylish.\", \"Hemline's length, a fashion choice.\", 'Short hemline, modern and chic.', 'Whipped cream-topped, cone-shaped delight.', \"Lawn's perfection, a canvas of green.\", 'Authoritative coat of arms, tradition hides.', 'Lavish coat of arms, ancient and majestic.', 'Serene lawn, pristine and meticulously groomed.', 'Manicured lawns, lush and perfect.', \"Water's mirror, calmness personified.\"]]\n",
            "[[\"A dog's gaze on the ground.\", \"Reflective water with a dog's reflection.\", 'Academic gowns with dog bow tie.', 'Dog focused on hidden object.', \"Dog's focused attention on a treat.\", 'Cone topped with whipped cream near dog.', 'Dog bow tie in a mirror.', 'Whipped cream cone on the lawn.', 'Reflection of a dog in water.', 'Manicured lawn with playful dog.'], ['Dress hemline, fashion statement, short.', 'Reflection of grandeur in tranquil waters.', 'Coat of arms, timeless, and noble.', 'Cone with whipped cream atop, artfully decorated.', 'Mirrored water, calm and peaceful.', 'Whipped-cream crowned, ice cream cone, delicious.', \"Whipped cream's peak, sugary delight.\", 'Reflective water, mirror-like tranquility.', 'Coat of arms on a lavish, ornate shield.', \"Water's calmness, a silent spectacle.\", 'Prominently displayed, stately coat of arms.', 'Distinguished coat of arms, elegant and authoritative.', 'Emblematic coat of arms, regal and old-world.', \"Serenity in reflection, water's calm surface.\", \"Hemline's style, modern, trendy.\", 'Expensive, ornate coat of arms, commanding attention.', \"Hemline's short, fashionable and stylish.\", \"Hemline's length, a fashion choice.\", 'Short hemline, modern and chic.', 'Whipped cream-topped, cone-shaped delight.', \"Lawn's perfection, a canvas of green.\", 'Authoritative coat of arms, tradition hides.', 'Lavish coat of arms, ancient and majestic.', 'Serene lawn, pristine and meticulously groomed.', 'Manicured lawns, lush and perfect.', \"Water's mirror, calmness personified.\"]]\n",
            "DEBUG: clip_scorer processing 8 sentences...\n",
            "DEBUG: clip_scorer processing 8 sentences...\n",
            "DEBUG: clip_scorer processing 4 sentences...\n",
            "DEBUG: clip_scorer processing 8 sentences...\n",
            "DEBUG: clip_scorer processing 8 sentences...\n",
            "DEBUG: clip_scorer processing 8 sentences...\n",
            "DEBUG: clip_scorer processing 8 sentences...\n",
            "DEBUG: clip_scorer processing 4 sentences...\n",
            "DEBUG: BEST VALUE: {'6177': (np.float32(0.04872445), 'Picture with a short hemline'), '47720': (np.float32(0.05030725), \"Whipped cream's peak, sugary delight.\")}\n"
          ]
        }
      ]
    },
    {
      "cell_type": "markdown",
      "source": [
        "## Results\n",
        "\n",
        "Results are saved in folder:\n",
        "\n",
        "`content/mils/output/imagec_g_Phi-3-mini-4k-instruct_3_0.0_10_10_ViT-SO400M-14-SigLIP_webli_image_captioning_shorter_10`\n",
        "\n",
        "in `/image_id/log.txt` file."
      ],
      "metadata": {
        "id": "iRU4VpITLcSX"
      }
    },
    {
      "cell_type": "markdown",
      "source": [
        "## Example results summary"
      ],
      "metadata": {
        "id": "lq632u7jML1Q"
      }
    },
    {
      "cell_type": "markdown",
      "source": [
        "Parameters:\n",
        "- iterations 3 (50)\n",
        "- text_model \"microsoft/Phi-3-mini-4k-instruct\" (\"meta-llama/Meta-Llama-3.1-8B-Instruct\")\n",
        "- requested_number 10 (50)\n",
        "- keep_previous 10 (50)\n",
        "- init_descriptions \"image_descriptions_per_class.txt\"  \n",
        "- batch_size 8 (32)\n",
        "- init_descriptions_set_size 10 (\"all\")\n",
        "\n",
        "Execution time: ~4 min"
      ],
      "metadata": {
        "id": "is6gOwL-MOK-"
      }
    },
    {
      "cell_type": "markdown",
      "source": [
        "#### Image 47720\n",
        "0.017975037917494774\t-0.00996802281588316\tImage with a cone topped with whipped cream\n",
        "\n",
        "0.01797511987388134\t-0.0012893148232251406\tImage with a cone topped with whipped cream\n",
        "\n",
        "0.01797511987388134\t-0.007545790169388056\tImage with a cone topped with whipped cream\n",
        "\n",
        "0.0503072515130043\t-0.017376456409692764\tWhipped cream's peak, sugary delight."
      ],
      "metadata": {
        "id": "7Q-BhUIwNudr"
      }
    },
    {
      "cell_type": "markdown",
      "source": [
        "#### Image 6177\n",
        "0.04872450232505798\t-0.006558367051184177\tPicture with a short hemline\n",
        "\n",
        "0.048724450170993805\t0.00482393940910697\tPicture with a short hemline\n",
        "\n",
        "0.048724450170993805\t-0.0046279639936983585\tPicture with a short hemline\n",
        "\n",
        "0.048724450170993805\t-0.012569117359817028\tPicture with a short hemline\n"
      ],
      "metadata": {
        "id": "rAdgyNmZN4Fp"
      }
    },
    {
      "cell_type": "markdown",
      "source": [
        "#### Original captions\n",
        "\n",
        "- (id = 6177) The scissors with black handles are sitting open.\n",
        "- (id = 47720) A cup of coffee sits next to a panini sandwich on a counter."
      ],
      "metadata": {
        "id": "r9zANdIeOAi2"
      }
    }
  ]
}